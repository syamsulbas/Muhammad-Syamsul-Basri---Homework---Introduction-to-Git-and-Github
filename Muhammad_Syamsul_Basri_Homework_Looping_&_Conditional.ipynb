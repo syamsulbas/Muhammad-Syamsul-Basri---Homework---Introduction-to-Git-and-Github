{
  "nbformat": 4,
  "nbformat_minor": 0,
  "metadata": {
    "colab": {
      "name": "Muhammad Syamsul Basri - Homework - Looping & Conditional.ipynb",
      "provenance": [],
      "collapsed_sections": []
    },
    "kernelspec": {
      "name": "python3",
      "display_name": "Python 3"
    },
    "language_info": {
      "name": "python"
    }
  },
  "cells": [
    {
      "cell_type": "code",
      "metadata": {
        "id": "_jbBRfdYX3F4"
      },
      "source": [
        "list_nama = ['agus', 'sari', 'putri', 'bambang']\n",
        "list_nilai_a = [70, 63, 84, 65]\n",
        "list_nilai_b = [63, 44, 79, 83]"
      ],
      "execution_count": 63,
      "outputs": []
    },
    {
      "cell_type": "markdown",
      "metadata": {
        "id": "MAChx4xPxN6i"
      },
      "source": [
        "# 1. Dari `list_nama`, `list_nilai_a`, dan `list_nilai_b` di atas, buat ***list of dictionaries*** dgn key = **nama**, & **nilai_rata**. Contoh:\n",
        "```\n",
        "[{'nama': 'agus', 'nilai_rata': 66.5},\n",
        " {'nama': 'sari', 'nilai_rata': 53.5},\n",
        " {'nama': 'putri', 'nilai_rata': 81.5},\n",
        " {'nama': 'bambang', 'nilai_rata': 74.0}]\n",
        "```\n",
        "2. kelompokkan nilai berdasarkan range nilai:\n",
        "\n",
        "*   **A**: 80 - 100\n",
        "*   **B**: 70 - 79\n",
        "*   **C**: 60 - 69\n",
        "*   **D**: kurang dari 59\n",
        "\n",
        "3. masukkan nama-nama siswa berdasarkan nilai rata-rata masing-masing, ke dalam **list_range_a**, **list_range_b**, **list_range_c**, **list_range_d**\n"
      ]
    },
    {
      "cell_type": "code",
      "metadata": {
        "id": "jYfXSuCItn1H"
      },
      "source": [
        "list_of_dictionaries = []\n",
        "\n",
        "for list_nama, list_nilai_a, list_nilai_b in zip(list_nama, list_nilai_a, list_nilai_b):\n",
        "  hasil = {\n",
        "    'nama': list_nama,\n",
        "    'nilai_rata': ((list_nilai_a + list_nilai_b)/2)\n",
        "  }\n",
        "  list_of_dictionaries.append(hasil)"
      ],
      "execution_count": 64,
      "outputs": []
    },
    {
      "cell_type": "code",
      "metadata": {
        "colab": {
          "base_uri": "https://localhost:8080/"
        },
        "id": "UoL9tAJSwRDF",
        "outputId": "1d17e4ad-9c32-441c-bbff-ca8eddf8fc45"
      },
      "source": [
        " list_of_dictionaries"
      ],
      "execution_count": 141,
      "outputs": [
        {
          "output_type": "execute_result",
          "data": {
            "text/plain": [
              "[{'nama': 'agus', 'nilai_rata': 66.5},\n",
              " {'nama': 'sari', 'nilai_rata': 53.5},\n",
              " {'nama': 'putri', 'nilai_rata': 81.5},\n",
              " {'nama': 'bambang', 'nilai_rata': 74.0}]"
            ]
          },
          "metadata": {},
          "execution_count": 141
        }
      ]
    },
    {
      "cell_type": "code",
      "metadata": {
        "colab": {
          "base_uri": "https://localhost:8080/"
        },
        "id": "8PWrb8KF4igy",
        "outputId": "5406f7a9-ff34-446d-a6e2-39ea51256747"
      },
      "source": [
        "list_range_a = []\n",
        "list_range_b = []\n",
        "list_range_c = []\n",
        "list_range_d = []\n",
        "\n",
        "for value in list_of_dictionaries:  \n",
        "  if value['nilai_rata'] <= 59 :\n",
        "    print(f'siswa bernama {value[\"nama\"]} dgn nilai : {value[\"nilai_rata\"]}, dinyatakan list_range_d!')\n",
        "    list_range_d.append(value[\"nama\"])\n",
        "  elif value['nilai_rata'] <= 69 :\n",
        "    print(f'siswa bernama {value[\"nama\"]} dgn nilai : {value[\"nilai_rata\"]}, dinyatakan list_range_c!')\n",
        "    list_range_c.append(value[\"nama\"])\n",
        "  elif value['nilai_rata'] <=79 :\n",
        "    print(f'siswa bernama {value[\"nama\"]} dgn nilai : {value[\"nilai_rata\"]}, dinyatakan list_range_b!')\n",
        "    list_range_b.append(value[\"nama\"])\n",
        "  elif value['nilai_rata'] <= 100 :\n",
        "    print(f'siswa bernama {value[\"nama\"]} dgn nilai : {value[\"nilai_rata\"]}, dinyatakan list_range_a!')\n",
        "    list_range_a.append(value[\"nama\"])\n",
        "  else:\n",
        "    print(f'data siswa bernama {value[\"nama\"]} ERORR!')"
      ],
      "execution_count": 161,
      "outputs": [
        {
          "output_type": "stream",
          "name": "stdout",
          "text": [
            "siswa bernama agus dgn nilai : 66.5, dinyatakan list_range_c!\n",
            "siswa bernama sari dgn nilai : 53.5, dinyatakan list_range_d!\n",
            "siswa bernama putri dgn nilai : 81.5, dinyatakan list_range_a!\n",
            "siswa bernama bambang dgn nilai : 74.0, dinyatakan list_range_b!\n"
          ]
        }
      ]
    },
    {
      "cell_type": "code",
      "metadata": {
        "colab": {
          "base_uri": "https://localhost:8080/"
        },
        "id": "Ycjk3HN3JvSL",
        "outputId": "66f2300b-71b6-4877-c697-7b44c4aaefc5"
      },
      "source": [
        "print(list_range_a)\n",
        "print(list_range_b)\n",
        "print(list_range_c)\n",
        "print(list_range_d)"
      ],
      "execution_count": 162,
      "outputs": [
        {
          "output_type": "stream",
          "name": "stdout",
          "text": [
            "['putri']\n",
            "['bambang']\n",
            "['agus']\n",
            "['sari']\n"
          ]
        }
      ]
    }
  ]
}